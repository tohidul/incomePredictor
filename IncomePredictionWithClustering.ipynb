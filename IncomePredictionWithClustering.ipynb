{
  "cells": [
    {
      "metadata": {
        "_uuid": "8f2839f25d086af736a60e9eeb907d3b93b6e0e5",
        "_cell_guid": "b1076dfc-b9ad-4769-8c92-a6c4dae69d19",
        "trusted": true
      },
      "cell_type": "code",
      "source": "import pandas as pd\nimport numpy as np\nfrom sklearn.preprocessing import LabelEncoder\nimport os",
      "execution_count": null,
      "outputs": []
    },
    {
      "metadata": {
        "_cell_guid": "79c7e3d0-c299-4dcb-8224-4455121ee9b0",
        "_uuid": "d629ff2d2480ee46fbb7e2d37f6b5fab8052498a",
        "trusted": true
      },
      "cell_type": "code",
      "source": "df_t = pd.read_csv('../input/income_train.csv')\ndf_v = pd.read_csv('../input/income_test.csv',encoding=\"utf-8\", header=1)",
      "execution_count": null,
      "outputs": []
    },
    {
      "metadata": {
        "trusted": true,
        "_uuid": "49e66e35a9837bf66c4729b244d8d208c6649c7c"
      },
      "cell_type": "code",
      "source": "df_t.columns = [ \"Age\", \"Workclass\", \"fnlwgt\", \"Education\", \"Education_Num\", \"Marital_Status\",\n        \"Occupation\", \"Relationship\", \"Race\", \"Sex\", \"Capital_Gain\", \"Capital_Loss\",\n        \"Hours_per_week\", \"Country\", \"Target\"]",
      "execution_count": null,
      "outputs": []
    },
    {
      "metadata": {
        "trusted": true,
        "_uuid": "b308bc72b1fd67b4a21a1dd7d75950314906121b"
      },
      "cell_type": "code",
      "source": "df_v.columns = [ \"Age\", \"Workclass\", \"fnlwgt\", \"Education\", \"Education_Num\", \"Marital_Status\",\n        \"Occupation\", \"Relationship\", \"Race\", \"Sex\", \"Capital_Gain\", \"Capital_Loss\",\n        \"Hours_per_week\", \"Country\", \"Target\"]",
      "execution_count": null,
      "outputs": []
    },
    {
      "metadata": {
        "trusted": true,
        "_uuid": "da6ec51479568544029121854c7265878ca204dc"
      },
      "cell_type": "code",
      "source": "df_t=df_t.drop(['fnlwgt', 'Education',\"Relationship\", \"Capital_Gain\", \"Capital_Loss\"], axis=1)",
      "execution_count": null,
      "outputs": []
    },
    {
      "metadata": {
        "trusted": true,
        "_uuid": "273342a51db5e4d1c56a561bdf2864dabcdda836"
      },
      "cell_type": "code",
      "source": "df_v=df_v.drop(['fnlwgt', 'Education',\"Relationship\", \"Capital_Gain\", \"Capital_Loss\"], axis=1)",
      "execution_count": null,
      "outputs": []
    },
    {
      "metadata": {
        "trusted": true,
        "_uuid": "7938c82ea995f0eb03f17a6c4042e73d94a7ddcc"
      },
      "cell_type": "code",
      "source": "df_t['Workclass'] = df_t['Workclass'].str.replace('Self-emp-not-inc', 'Self_Employed')\ndf_t['Workclass'] = df_t['Workclass'].str.replace('Self-emp-inc', 'Self_Employed')\ndf_t['Workclass'] = df_t['Workclass'].str.replace('Local-gov', 'govt')\ndf_t['Workclass'] = df_t['Workclass'].str.replace('State-gov', 'govt')\ndf_t['Workclass'] = df_t['Workclass'].str.replace('Federal-gov', 'govt')\ndf_t['Workclass'] = df_t['Workclass'].str.replace('Without-pay', 'without_earning')\ndf_t['Workclass'] = df_t['Workclass'].str.replace('Never-worked', 'without_earning')\ndf_t['Workclass'] = df_t['Workclass'].str.replace('\\?', 'W_Not_Specified')",
      "execution_count": null,
      "outputs": []
    },
    {
      "metadata": {
        "trusted": true,
        "_uuid": "6c78aff11df6f26f0cf81402cf1fba97dab7fee0"
      },
      "cell_type": "code",
      "source": "df_v['Workclass'] = df_v['Workclass'].str.replace('Self-emp-not-inc', 'Self_Employed')\ndf_v['Workclass'] = df_v['Workclass'].str.replace('Self-emp-inc', 'Self_Employed')\ndf_v['Workclass'] = df_v['Workclass'].str.replace('Local-gov', 'govt')\ndf_v['Workclass'] = df_v['Workclass'].str.replace('State-gov', 'govt')\ndf_v['Workclass'] = df_v['Workclass'].str.replace('Federal-gov', 'govt')\ndf_v['Workclass'] = df_v['Workclass'].str.replace('Without-pay', 'without_earning')\ndf_v['Workclass'] = df_v['Workclass'].str.replace('Never-worked', 'without_earning')\ndf_v['Workclass'] = df_v['Workclass'].str.replace('\\?', 'W_Not_Specified')",
      "execution_count": null,
      "outputs": []
    },
    {
      "metadata": {
        "trusted": true,
        "_uuid": "645fec1370835271b6aa502b44d00ad126a3ee62"
      },
      "cell_type": "code",
      "source": "df_t['Country'] = df_t['Country'].str.replace('Outlying-US\\(Guam-USVI-etc\\)', 'Guam')\ndf_t['Country'] = df_t['Country'].str.replace('\\?', 'C_Not_Specified')\ndf_t['Country'] = df_t['Country'].str.replace('Germany', 'Europe')\ndf_t['Country'] = df_t['Country'].str.replace('Italy', 'Europe')\ndf_t['Country'] = df_t['Country'].str.replace('Poland', 'Europe')\ndf_t['Country'] = df_t['Country'].str.replace('Scotland', 'Europe')\ndf_t['Country'] = df_t['Country'].str.replace('Hungary', 'Europe')\ndf_t['Country'] = df_t['Country'].str.replace('Yugoslavia', 'Europe')\ndf_t['Country'] = df_t['Country'].str.replace('Holand-Netherlands', 'Europe')\ndf_t['Country'] = df_t['Country'].str.replace('Ireland', 'Europe')\ndf_t['Country'] = df_t['Country'].str.replace('Greece', 'Europe')\ndf_t['Country'] = df_t['Country'].str.replace('Portugal', 'Europe')\ndf_t['Country'] = df_t['Country'].str.replace('France', 'Europe')\ndf_t['Country'] = df_t['Country'].str.replace('England', 'Europe')\ndf_t['Country'] = df_t['Country'].str.replace('Laos', 'Asia')\ndf_t['Country'] = df_t['Country'].str.replace('Thailand', 'Asia')\ndf_t['Country'] = df_t['Country'].str.replace('Cambodia', 'Asia')\ndf_t['Country'] = df_t['Country'].str.replace('Hong', 'Asia')\ndf_t['Country'] = df_t['Country'].str.replace('Iran', 'Asia')\ndf_t['Country'] = df_t['Country'].str.replace('Taiwan', 'Asia')\ndf_t['Country'] = df_t['Country'].str.replace('Japan', 'Asia')\ndf_t['Country'] = df_t['Country'].str.replace('Vietnam', 'Asia')\ndf_t['Country'] = df_t['Country'].str.replace('China', 'Asia')\ndf_t['Country'] = df_t['Country'].str.replace('India', 'Asia')\ndf_t['Country'] = df_t['Country'].str.replace('Philippines', 'Asia')\ndf_t['Country'] = df_t['Country'].str.replace('South', 'Asia')\ndf_t['Country'] = df_t['Country'].str.replace('Columbia', 'South_America')\ndf_t['Country'] = df_t['Country'].str.replace('Peru', 'South_America')\ndf_t['Country'] = df_t['Country'].str.replace('Ecuador', 'South_America')\ndf_t['Country'] = df_t['Country'].str.replace('United-States', 'North_America')\ndf_t['Country'] = df_t['Country'].str.replace('Mexico', 'North_America')\ndf_t['Country'] = df_t['Country'].str.replace('Puerto-Rico', 'North_America')\ndf_t['Country'] = df_t['Country'].str.replace('Canada', 'North_America')\ndf_t['Country'] = df_t['Country'].str.replace('Cuba', 'North_America')\ndf_t['Country'] = df_t['Country'].str.replace('Jamaica', 'North_America')\ndf_t['Country'] = df_t['Country'].str.replace('Trinadad&Tobago', 'North_America')\ndf_t['Country'] = df_t['Country'].str.replace('Honduras', 'North_America')\ndf_t['Country'] = df_t['Country'].str.replace('Nicaragua', 'North_America')\ndf_t['Country'] = df_t['Country'].str.replace('Dominican-Republic', 'North_America')\ndf_t['Country'] = df_t['Country'].str.replace('Guam', 'North_America')\ndf_t['Country'] = df_t['Country'].str.replace('Haiti', 'North_America')\ndf_t['Country'] = df_t['Country'].str.replace('Dominican-Republic', 'North_America')\ndf_t['Country'] = df_t['Country'].str.replace('El-Salvador', 'North_America')\ndf_t['Country'] = df_t['Country'].str.replace('Guatemala', 'North_America')",
      "execution_count": null,
      "outputs": []
    },
    {
      "metadata": {
        "trusted": true,
        "_uuid": "dfb73c3c53d3a47f1e41fa51e8005c756444ca1f"
      },
      "cell_type": "code",
      "source": "df_v['Country'] = df_v['Country'].str.replace('Outlying-US\\(Guam-USVI-etc\\)', 'Guam')\ndf_v['Country'] = df_v['Country'].str.replace('\\?', 'C_Not_Specified')\ndf_v['Country'] = df_v['Country'].str.replace('Germany', 'Europe')\ndf_v['Country'] = df_v['Country'].str.replace('Italy', 'Europe')\ndf_v['Country'] = df_v['Country'].str.replace('Poland', 'Europe')\ndf_v['Country'] = df_v['Country'].str.replace('Scotland', 'Europe')\ndf_v['Country'] = df_v['Country'].str.replace('Hungary', 'Europe')\ndf_v['Country'] = df_v['Country'].str.replace('Yugoslavia', 'Europe')\ndf_v['Country'] = df_v['Country'].str.replace('Holand-Netherlands', 'Europe')\ndf_v['Country'] = df_v['Country'].str.replace('Ireland', 'Europe')\ndf_v['Country'] = df_v['Country'].str.replace('Greece', 'Europe')\ndf_v['Country'] = df_v['Country'].str.replace('Portugal', 'Europe')\ndf_v['Country'] = df_v['Country'].str.replace('France', 'Europe')\ndf_v['Country'] = df_v['Country'].str.replace('England', 'Europe')\ndf_v['Country'] = df_v['Country'].str.replace('Laos', 'Asia')\ndf_v['Country'] = df_v['Country'].str.replace('Thailand', 'Asia')\ndf_v['Country'] = df_v['Country'].str.replace('Cambodia', 'Asia')\ndf_v['Country'] = df_v['Country'].str.replace('Hong', 'Asia')\ndf_v['Country'] = df_v['Country'].str.replace('Iran', 'Asia')\ndf_v['Country'] = df_v['Country'].str.replace('Taiwan', 'Asia')\ndf_v['Country'] = df_v['Country'].str.replace('Japan', 'Asia')\ndf_v['Country'] = df_v['Country'].str.replace('Vietnam', 'Asia')\ndf_v['Country'] = df_v['Country'].str.replace('China', 'Asia')\ndf_v['Country'] = df_v['Country'].str.replace('India', 'Asia')\ndf_v['Country'] = df_v['Country'].str.replace('Philippines', 'Asia')\ndf_v['Country'] = df_v['Country'].str.replace('South', 'Asia')\ndf_v['Country'] = df_v['Country'].str.replace('Columbia', 'South_America')\ndf_v['Country'] = df_v['Country'].str.replace('Peru', 'South_America')\ndf_v['Country'] = df_v['Country'].str.replace('Ecuador', 'South_America')\ndf_v['Country'] = df_v['Country'].str.replace('United-States', 'North_America')\ndf_v['Country'] = df_v['Country'].str.replace('Mexico', 'North_America')\ndf_v['Country'] = df_v['Country'].str.replace('Puerto-Rico', 'North_America')\ndf_v['Country'] = df_v['Country'].str.replace('Canada', 'North_America')\ndf_v['Country'] = df_v['Country'].str.replace('Cuba', 'North_America')\ndf_v['Country'] = df_v['Country'].str.replace('Jamaica', 'North_America')\ndf_v['Country'] = df_v['Country'].str.replace('Trinadad&Tobago', 'North_America')\ndf_v['Country'] = df_v['Country'].str.replace('Honduras', 'North_America')\ndf_v['Country'] = df_v['Country'].str.replace('Nicaragua', 'North_America')\ndf_v['Country'] = df_v['Country'].str.replace('Dominican-Republic', 'North_America')\ndf_v['Country'] = df_v['Country'].str.replace('Guam', 'North_America')\ndf_v['Country'] = df_v['Country'].str.replace('Haiti', 'North_America')\ndf_v['Country'] = df_v['Country'].str.replace('Dominican-Republic', 'North_America')\ndf_v['Country'] = df_v['Country'].str.replace('El-Salvador', 'North_America')\ndf_v['Country'] = df_v['Country'].str.replace('Guatemala', 'North_America')",
      "execution_count": null,
      "outputs": []
    },
    {
      "metadata": {
        "trusted": true,
        "_uuid": "79c2134b8228464df68e7541e1a5e0df31cdab2e"
      },
      "cell_type": "code",
      "source": "df_t['Marital_Status'] = df_t['Marital_Status'].str.replace('Never-married', 'Single')\ndf_t['Marital_Status'] = df_t['Marital_Status'].str.replace('Divorced', 'Single')\ndf_t['Marital_Status'] = df_t['Marital_Status'].str.replace('Separated', 'Single')\ndf_t['Marital_Status'] = df_t['Marital_Status'].str.replace('Widowed', 'Single')\ndf_t['Marital_Status'] = df_t['Marital_Status'].str.replace('Married-spouse-absent', 'N_Single')\ndf_t['Marital_Status'] = df_t['Marital_Status'].str.replace('Married-AF-spouse', 'N_Single')\ndf_t['Marital_Status'] = df_t['Marital_Status'].str.replace('Married-civ-spouse', 'N_Single')",
      "execution_count": null,
      "outputs": []
    },
    {
      "metadata": {
        "trusted": true,
        "_uuid": "666c69e88d1ce4a9378743873dddb2591120e6e7"
      },
      "cell_type": "code",
      "source": "df_v['Marital_Status'] = df_v['Marital_Status'].str.replace('Never-married', 'Single')\ndf_v['Marital_Status'] = df_v['Marital_Status'].str.replace('Divorced', 'Single')\ndf_v['Marital_Status'] = df_v['Marital_Status'].str.replace('Separated', 'Single')\ndf_v['Marital_Status'] = df_v['Marital_Status'].str.replace('Widowed', 'Single')\ndf_v['Marital_Status'] = df_v['Marital_Status'].str.replace('Married-spouse-absent', 'N_Single')\ndf_v['Marital_Status'] = df_v['Marital_Status'].str.replace('Married-AF-spouse', 'N_Single')\ndf_v['Marital_Status'] = df_v['Marital_Status'].str.replace('Married-civ-spouse', 'N_Single')",
      "execution_count": null,
      "outputs": []
    },
    {
      "metadata": {
        "trusted": true,
        "_uuid": "1115924b9b50c2fc292e4a73e092ef48f976adf1"
      },
      "cell_type": "code",
      "source": "df_t['Race'] = df_t['Race'].str.replace('\\?', 'R_Not_Specified')\ndf_t['Sex'] = df_t['Sex'].str.replace('\\?', 'S_Not_Specified')",
      "execution_count": null,
      "outputs": []
    },
    {
      "metadata": {
        "trusted": true,
        "_uuid": "b42d56e434669a83bb3b93fde9c5ced6d5080530"
      },
      "cell_type": "code",
      "source": "df_v['Race'] = df_v['Race'].str.replace('\\?', 'R_Not_Specified')\ndf_v['Sex'] = df_v['Sex'].str.replace('\\?', 'S_Not_Specified')",
      "execution_count": null,
      "outputs": []
    },
    {
      "metadata": {
        "trusted": true,
        "_uuid": "f118787e182eb6f5b146b1611e0e0a1fe2871fe0"
      },
      "cell_type": "code",
      "source": "df_t['Occupation'] = df_t['Occupation'].str.replace('\\?', 'O_Not_Specified')",
      "execution_count": null,
      "outputs": []
    },
    {
      "metadata": {
        "trusted": true,
        "_uuid": "869cdb5bf748f5b27961bc3f6f1b76202e4401c3"
      },
      "cell_type": "code",
      "source": "df_v['Occupation'] = df_v['Occupation'].str.replace('\\?', 'O_Not_Specified')",
      "execution_count": null,
      "outputs": []
    },
    {
      "metadata": {
        "trusted": true,
        "_uuid": "d692949865e5bf1808b428361bb6df52532f86f3"
      },
      "cell_type": "code",
      "source": "one_hot_t_Workclass = pd.get_dummies(df_t['Workclass'])\ndf_t = df_t.drop('Workclass', axis=1)\ndf_t = df_t.join(one_hot_t_Workclass)\n\none_hot_t_Marital_Status = pd.get_dummies(df_t['Marital_Status'])\ndf_t = df_t.drop('Marital_Status', axis=1)\ndf_t = df_t.join(one_hot_t_Marital_Status)\n\none_hot_t_Occupation = pd.get_dummies(df_t['Occupation'])\ndf_t = df_t.drop('Occupation', axis=1)\ndf_t = df_t.join(one_hot_t_Occupation)\n\none_hot_t_Race = pd.get_dummies(df_t['Race'])\ndf_t = df_t.drop('Race', axis=1)\ndf_t = df_t.join(one_hot_t_Race)\n\none_hot_t_Sex = pd.get_dummies(df_t['Sex'])\ndf_t = df_t.drop('Sex', axis=1)\ndf_t = df_t.join(one_hot_t_Sex)\n\none_hot_t_Country = pd.get_dummies(df_t['Country'])\ndf_t = df_t.drop('Country', axis=1)\ndf_t = df_t.join(one_hot_t_Country)\n\n\n#lb_t_target = LabelEncoder()\n#df_t[\"Target\"] = lb_t_target.fit_transform(df_t[\"Target\"])",
      "execution_count": null,
      "outputs": []
    },
    {
      "metadata": {
        "trusted": true,
        "_uuid": "5da35b220067ea2a6c3cbc60f826b373b394cef6"
      },
      "cell_type": "code",
      "source": "df_t = df_t.replace({'Target': {' <=50K': 1, ' >50K': 0}})",
      "execution_count": null,
      "outputs": []
    },
    {
      "metadata": {
        "trusted": true,
        "_uuid": "0a01d23f8c1bb3b5cc53f334ef544bb1b0b9a479"
      },
      "cell_type": "code",
      "source": "df_t.head()",
      "execution_count": null,
      "outputs": []
    },
    {
      "metadata": {
        "trusted": true,
        "_uuid": "4f302a616668a1ca84f7bb2a086c0cb0fc5382cd"
      },
      "cell_type": "code",
      "source": "one_hot_v_Workclass = pd.get_dummies(df_v['Workclass'])\ndf_v = df_v.drop('Workclass', axis=1)\ndf_v = df_v.join(one_hot_v_Workclass)\n\none_hot_v_Marital_Status = pd.get_dummies(df_v['Marital_Status'])\ndf_v = df_v.drop('Marital_Status', axis=1)\ndf_v = df_v.join(one_hot_v_Marital_Status)\n\none_hot_v_Occupation = pd.get_dummies(df_v['Occupation'])\ndf_v = df_v.drop('Occupation', axis=1)\ndf_v = df_v.join(one_hot_v_Occupation)\n\none_hot_v_Race = pd.get_dummies(df_v['Race'])\ndf_v = df_v.drop('Race', axis=1)\ndf_v = df_v.join(one_hot_v_Race)\n\none_hot_v_Sex = pd.get_dummies(df_v['Sex'])\ndf_v = df_v.drop('Sex', axis=1)\ndf_v = df_v.join(one_hot_v_Sex)\n\none_hot_v_Country = pd.get_dummies(df_v['Country'])\ndf_v = df_v.drop('Country', axis=1)\ndf_v = df_v.join(one_hot_v_Country)\n\n#lb_v_target = LabelEncoder()\n#df_v[\"Target\"] = lb_v_target.fit_transform(df_v[\"Target\"])",
      "execution_count": null,
      "outputs": []
    },
    {
      "metadata": {
        "trusted": true,
        "_uuid": "d63bbee364d98aa1835d91166bfc071a6d4a4ea1"
      },
      "cell_type": "code",
      "source": "df_v = df_v.replace({'Target': {' <=50K.': 1, ' >50K.': 0}})",
      "execution_count": null,
      "outputs": []
    },
    {
      "metadata": {
        "trusted": true,
        "_uuid": "d22513df48154141c369e292cd9008a46b766e08"
      },
      "cell_type": "code",
      "source": "df_v.head()",
      "execution_count": null,
      "outputs": []
    },
    {
      "metadata": {
        "trusted": true,
        "_uuid": "582fd3ae76faac196063a4aef8952b79a91208cc"
      },
      "cell_type": "code",
      "source": "data_train_array = df_t.values\n",
      "execution_count": null,
      "outputs": []
    },
    {
      "metadata": {
        "trusted": true,
        "_uuid": "fa27b00b4c1c3c2a647f1e8ca52bccaf02475e6d"
      },
      "cell_type": "code",
      "source": "data_validation_array = df_v.values",
      "execution_count": null,
      "outputs": []
    },
    {
      "metadata": {
        "trusted": true,
        "_uuid": "6586aa85dc97e590ed9138a00b598a15a5b04ee2"
      },
      "cell_type": "code",
      "source": "df_t.shape",
      "execution_count": null,
      "outputs": []
    },
    {
      "metadata": {
        "trusted": true,
        "_uuid": "77f8e7bdf38e8727495dc890060504b632ada3fa"
      },
      "cell_type": "code",
      "source": "y = data_train_array[:,3]",
      "execution_count": null,
      "outputs": []
    },
    {
      "metadata": {
        "trusted": true,
        "_uuid": "ea00912afa55341030d83559695300976d00ce6e"
      },
      "cell_type": "code",
      "source": "data_train_array = np.delete(data_train_array, [3], axis=1)",
      "execution_count": null,
      "outputs": []
    },
    {
      "metadata": {
        "trusted": true,
        "_uuid": "0c55034e8d6a5e0b70472cc83473fc9d6704595e"
      },
      "cell_type": "code",
      "source": "y_v = data_validation_array[:,3]",
      "execution_count": null,
      "outputs": []
    },
    {
      "metadata": {
        "trusted": true,
        "_uuid": "0d833d8e9dbba47569ca68183a0ced6f70e4fe51"
      },
      "cell_type": "code",
      "source": "data_validation_array = np.delete(data_validation_array, [3], axis=1)",
      "execution_count": null,
      "outputs": []
    },
    {
      "metadata": {
        "trusted": true,
        "_uuid": "e3b213174f4e99bd9a7ea2c0920f070a53cdf0ee"
      },
      "cell_type": "code",
      "source": "data_train_array[0]",
      "execution_count": null,
      "outputs": []
    },
    {
      "metadata": {
        "trusted": true,
        "_uuid": "349192cbdaa8097d71164e0bb61a7eda0a529d71"
      },
      "cell_type": "code",
      "source": "iteration = 100\ncluster = 2\ncentroid = {}\n#centroid = np.array()\n#np.asarray(centroid)\nfor i in range(cluster):\n    #centroid.append([])\n    centroid[i] = data_train_array[i]\n    #centroid[i] = data_train_array[]\n    #np.append(centroid,data_train_array[i], axis= 0)\n#np.asarray(centroid)\n#print(centroid)\n#print(len(centroid[0]))\nfor i in range(iteration):\n    classify = {}\n    \n    for j in range(cluster):\n        classify[j]=[]\n    for k in data_train_array:\n        distI = 1000000\n        for l in range(cluster):\n            dist = np.linalg.norm(centroid[l]-k)\n            if(dist<distI):\n                distI = dist\n                c = l\n        classify[c].append(k)\n    for m in range(cluster):\n        centroid[m] = np.mean(classify[m], axis=0)\n    #print(centroid[0])\n    #print(centroid[1])\ncorrect = 0\nx=0\nfor xi in range(data_train_array.shape[0]):\n    i=data_train_array[xi]\n    distPI = 1000000\n    for j in range(cluster):\n        distP = np.linalg.norm(centroid[j]-i)\n        if distP<distPI:\n            distPI = distP\n            predC = j\n    #print(y)\n    #print(predC)\n    if(y[xi] == predC ):\n        correct = correct+1\nacc = (correct/data_train_array.shape[0])*100\nprint(\"Trainng Accuracy: \",acc)\n                    ",
      "execution_count": null,
      "outputs": []
    },
    {
      "metadata": {
        "trusted": true,
        "_uuid": "034af0acac8c92190be1b7991f5e0053c59ec075"
      },
      "cell_type": "code",
      "source": "vcorrect = 0\nfor xi in range(data_validation_array.shape[0]):\n    i=data_validation_array[xi]\n    distPI = 1000000\n    for j in range(cluster):\n        distP = np.linalg.norm(centroid[j]-i)\n        if distP<distPI:\n            distPI = distP\n            predC = j\n    #print(y)\n    #print(predC)\n    if(y_v[xi] == predC ):\n        vcorrect = vcorrect+1\nvacc = (vcorrect/data_validation_array.shape[0])*100\nprint(\"Validation Accuracy: \",vacc)",
      "execution_count": null,
      "outputs": []
    },
    {
      "metadata": {
        "trusted": true,
        "_uuid": "1d8da72a81417fcca0788be60acd206d9670c42b"
      },
      "cell_type": "code",
      "source": "",
      "execution_count": null,
      "outputs": []
    }
  ],
  "metadata": {
    "kernelspec": {
      "display_name": "Python 3",
      "language": "python",
      "name": "python3"
    },
    "language_info": {
      "name": "python",
      "version": "3.6.6",
      "mimetype": "text/x-python",
      "codemirror_mode": {
        "name": "ipython",
        "version": 3
      },
      "pygments_lexer": "ipython3",
      "nbconvert_exporter": "python",
      "file_extension": ".py"
    }
  },
  "nbformat": 4,
  "nbformat_minor": 1
}
